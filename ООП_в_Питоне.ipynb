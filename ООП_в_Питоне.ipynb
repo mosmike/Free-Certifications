{
  "nbformat": 4,
  "nbformat_minor": 0,
  "metadata": {
    "celltoolbar": "Slideshow",
    "kernelspec": {
      "display_name": "Python 3",
      "language": "python",
      "name": "python3"
    },
    "language_info": {
      "codemirror_mode": {
        "name": "ipython",
        "version": 3
      },
      "file_extension": ".py",
      "mimetype": "text/x-python",
      "name": "python",
      "nbconvert_exporter": "python",
      "pygments_lexer": "ipython3",
      "version": "3.8.5"
    },
    "colab": {
      "provenance": [],
      "collapsed_sections": [
        "BMC8KSIf8B0T",
        "hrE9HrLK_GuI",
        "OnditD-g_Pyk",
        "aUSzkku8BAJ5",
        "oOrMvc2RDck9"
      ],
      "include_colab_link": true
    }
  },
  "cells": [
    {
      "cell_type": "markdown",
      "metadata": {
        "id": "view-in-github",
        "colab_type": "text"
      },
      "source": [
        "<a href=\"https://colab.research.google.com/github/mosmike/Free-Certifications/blob/main/%D0%9E%D0%9E%D0%9F_%D0%B2_%D0%9F%D0%B8%D1%82%D0%BE%D0%BD%D0%B5.ipynb\" target=\"_parent\"><img src=\"https://colab.research.google.com/assets/colab-badge.svg\" alt=\"Open In Colab\"/></a>"
      ]
    },
    {
      "cell_type": "markdown",
      "source": [
        "# ООП в питоне\n",
        "\n",
        "\n",
        "<img src=\"https://www.python.org/static/community_logos/python-logo-master-v3-TM.png\" align=\"right\" style=\"height: 200px;\"/>"
      ],
      "metadata": {
        "id": "2pS8HUFlGHXm"
      }
    },
    {
      "cell_type": "markdown",
      "source": [
        "# Что такое ООП?"
      ],
      "metadata": {
        "id": "vXAtu9f16Fx1"
      }
    },
    {
      "cell_type": "markdown",
      "source": [
        "**Парадигма программирования** — совокупность идей и понятий, определяющих стиль написания компьютерных программ (подход к программированию).\n",
        "\n"
      ],
      "metadata": {
        "id": "qzJYg59S6yLI"
      }
    },
    {
      "cell_type": "markdown",
      "source": [
        "**Парадигмы программирования:**\n",
        "- **императивное программирование** - последовательность команд, которые выполняются одна за другой\n",
        "- **процедурное программирование** - создание процедур и функций для сокращения дублирования кода\n",
        "- **декларативное программирование** - фокус на то \"что\" должна делать программа, а не \"как\" (примерно как SQL)\n",
        "- **функциональное программирование** - разбиение программы на функции, выход одной функции - выход другой\n",
        "- **структурное программирование** - веха в области программирования, структурировали основные элементы написания программ - последовательность, ветвление (if/else), цикл while, подпрограммы (функции)\n",
        "- **объектно-ориентированное программирование**"
      ],
      "metadata": {
        "id": "Xkuyxigi7sGw"
      }
    },
    {
      "cell_type": "markdown",
      "source": [
        "**Объектно-ориентированное программирование** - парадигма программирования, основанная на представлении программы в виде совокупности взаимодействующих объектов со своими свойствами и поведениями, каждый из которых является экземпляром определённого класса, которые образуют иерархию наследования.\n",
        "\n",
        "**Основные термины в ООП:**\n",
        "- Класс\n",
        "- Объекты\n",
        "- Абстракция\n",
        "- Инкапсуляция\n",
        "- Наследование\n",
        "- Полиморфизм\n",
        "\n",
        "\n",
        "\n"
      ],
      "metadata": {
        "id": "px2ehBfw-KLf"
      }
    },
    {
      "cell_type": "markdown",
      "source": [
        "## Объекты и классы"
      ],
      "metadata": {
        "id": "BMC8KSIf8B0T"
      }
    },
    {
      "cell_type": "markdown",
      "source": [
        "Основная идея ООП - выделить в программе отдельные сущности - объекты.\n",
        "\n",
        "**Примеры объектов из реальной жизни** - стол, чашка, человек, книга, здание и т.д.\n",
        "**Примеры объектов в программах** - пользователь, кнопка, сообщение.\n",
        "\n",
        "У объектов могут быть свои свойства, например, цвет, содержание или имя пользователя. Такие переменные (конкретные характеристики объекта) называются **атрибутами**.\n",
        "\n",
        "Возможные действия, например, \"отправить сообщение\", \"нанять сотрудника\", \"нажать кнопку\", называются **методами**. Это функции, которые описаны внутри объекта или класса. Они относятся к определенному объекту и позволяют взаимодействовать с ними или другими частями кода. \n",
        "\n",
        "Чтобы не создавать для каждого отдельного объекта свои методы (переиспользование кода), существуют классы. \n",
        "**Класс** — это «шаблон» для объекта, который описывает его атрибуты и методы Каждый объект — это экземпляр какого-нибудь класса.\n",
        "\n",
        "**Пример** - пишем систему учета сотрудников. Создадим класс \"Сотрудник\" с атрибутами: ФИО, должность, подразделение, руководитель, зарплата; и методами: \"перевести в другой отдел\", \"повысить зарплату\", \"сменить должность\", \"уволить\". Отдельный сотрудник, Вася Пупкин, является объектом - экземпляром класса \"Сотрудник\"."
      ],
      "metadata": {
        "id": "4VM3sUmn_AXl"
      }
    },
    {
      "cell_type": "markdown",
      "source": [
        "## Абстракция"
      ],
      "metadata": {
        "id": "hrE9HrLK_GuI"
      }
    },
    {
      "cell_type": "markdown",
      "source": [
        "Абстрагирование — это способ выделить набор наиболее важных атрибутов и методов и исключить незначимые. Соответственно, абстракция — это использование всех таких характеристик для описания объекта. Важно представить объект минимальным набором полей и методов без ущерба для решаемой задачи.\n",
        "\n",
        "Пример: объекту класса «программист» вряд ли понадобятся свойства «умение готовить еду» или «любимый цвет». Они не влияют на его особенности как программиста. А вот «основной язык программирования» и «рабочие навыки» — важные свойства, без которых программиста не опишешь.\n",
        "\n",
        "Набор атрибутов и методов, доступный извне, работает как интерфейс для доступа к объекту. Через них к нему могут обращаться другие структуры данных, причем им не обязательно знать, как именно объект устроен внутри.\n",
        "\n"
      ],
      "metadata": {
        "id": "Uynr0X-X_LHF"
      }
    },
    {
      "cell_type": "markdown",
      "source": [
        "## Инкапсуляция"
      ],
      "metadata": {
        "id": "OnditD-g_Pyk"
      }
    },
    {
      "cell_type": "markdown",
      "source": [
        "**Каждый объект — независимая структура.** Он содержит в себе все, что ему нужно для работы. Если ему нужна какая-либо переменная, она будет описана в теле объекта, а не наружном коде. Это делает объекты более гибкими. Даже если внешний код перепишут, логика работы не изменится.\n",
        "\n",
        "Инкапсуляция позволяет спрятать от внешнего кода и других объектов детали реализации того или иного метода. Другим объектам не важно (и не нужно) знать как именно объект выполняет свою задачу, главное - что выполняет :)\n",
        "\n",
        "Таким образом, внутреннее устройство одного объекта закрыто от других: извне «видны» только значения атрибутов и результаты выполнения методов."
      ],
      "metadata": {
        "id": "oVy65Crc_RJX"
      }
    },
    {
      "cell_type": "markdown",
      "source": [
        "## Наследование"
      ],
      "metadata": {
        "id": "aUSzkku8BAJ5"
      }
    },
    {
      "cell_type": "markdown",
      "source": [
        "Позволяет создавать классы и объекты, которые похожи друг на друга, но немного отличаются, например, имеют дополнительные атрибуты или другие методы. Более общий класс в таком случае становится «родителем», а более специфичный и подробный — «наследником».\n",
        "\n",
        "Например, класс \"сотрудник\" может иметь наследные классы \"программист\", \"аналитик\" и \"тестировщик\", каждый из которых имеет собственные методы, например, \"запрограммировать\", \"проанализировать\", \"протестировать\", а остальные методы и атрибуты класса \"сотрудник\" будут присутствовать во всех дочерних классах. И наш Вася Пупкин будет и экземпляром класса \"сотрудник\", и класса \"программист\".\n",
        "\n",
        "У одного \"родителя\" может быть несколько дочерних классов, у одного дочернего класса может быть и несколько родительских.\n",
        "\n",
        "Наследование позволяет создавать сложные схемы с четкой иерархией \"от общего к частному\". Это облегчает понимание и масштабирование кода. Не нужно много раз переписывать в разных объектах одни и те же свойства. Достаточно унаследовать эти объекты от одного \"родителя\", и родительские свойства применятся автоматически."
      ],
      "metadata": {
        "id": "4OywS9aYBDFa"
      }
    },
    {
      "cell_type": "markdown",
      "source": [
        "## Полиморфизм"
      ],
      "metadata": {
        "id": "oOrMvc2RDck9"
      }
    },
    {
      "cell_type": "markdown",
      "source": [
        "Одинаковые методы разных классов могут выполнять задачи разными способами. Например, у \"сотрудника\" есть метод \"работать\". У \"программиста\" реализация этого метода будет означать написание кода, а у \"тестировщика\" — рассмотрение управленческих вопросов. Но глобально и то, и другое будет работой.\n",
        "\n",
        "Тут важны единый подход и договоренности между специалистами. Если метод называется delete, то он должен что-то удалять. Как именно — зависит от объекта, но заниматься такой метод должен именно удалением. Более того: если оговорено, что «удаляющий» метод называется delete, то не нужно для какого-то объекта называть его remove или иначе. Это вносит путаницу в код."
      ],
      "metadata": {
        "id": "gknaFCIADc7d"
      }
    },
    {
      "cell_type": "markdown",
      "metadata": {
        "id": "qUsPA2zh8tvc"
      },
      "source": [
        "# ООП в Python"
      ]
    },
    {
      "cell_type": "markdown",
      "source": [
        "## Объявление класса и экземпляра"
      ],
      "metadata": {
        "id": "nYKt3cfpOqMG"
      }
    },
    {
      "cell_type": "markdown",
      "source": [
        "В Python объявление класса выполняется следующим образом:"
      ],
      "metadata": {
        "id": "dzJYh-_ACI8B"
      }
    },
    {
      "cell_type": "code",
      "metadata": {
        "id": "7mwbk4sk8tvd"
      },
      "source": [
        "class MyLittleClass:\n",
        "#class MyLittleClass:\n",
        "    color = \"blue\"\n",
        "    \n",
        "    def set_color(self, new_color):\n",
        "        color = new_color\n",
        "        print('set color to', color)"
      ],
      "execution_count": null,
      "outputs": []
    },
    {
      "cell_type": "markdown",
      "source": [
        "Создание объекта - экземпляра класса выглядит так:"
      ],
      "metadata": {
        "id": "FvCFgvBICTi5"
      }
    },
    {
      "cell_type": "code",
      "metadata": {
        "id": "xak2eN558tvf"
      },
      "source": [
        "obj = MyLittleClass()"
      ],
      "execution_count": null,
      "outputs": []
    },
    {
      "cell_type": "markdown",
      "source": [
        "Обращение к атрибуту экземпляра выглядит следующим образом:"
      ],
      "metadata": {
        "id": "R2JLIMiiCpia"
      }
    },
    {
      "cell_type": "code",
      "source": [
        "obj.color"
      ],
      "metadata": {
        "id": "u6o089eZCm4h",
        "colab": {
          "base_uri": "https://localhost:8080/",
          "height": 35
        },
        "outputId": "58426efa-6062-4658-85e5-08b2c80c43b3"
      },
      "execution_count": null,
      "outputs": [
        {
          "output_type": "execute_result",
          "data": {
            "text/plain": [
              "'blue'"
            ],
            "application/vnd.google.colaboratory.intrinsic+json": {
              "type": "string"
            }
          },
          "metadata": {},
          "execution_count": 3
        }
      ]
    },
    {
      "cell_type": "markdown",
      "source": [
        "Вызов метода экземпляра выглядит так:"
      ],
      "metadata": {
        "id": "tUaHwCf4CuVn"
      }
    },
    {
      "cell_type": "code",
      "source": [
        "obj.set_color('red')\n",
        "obj.color"
      ],
      "metadata": {
        "id": "H-W9CDTFCmbv",
        "colab": {
          "base_uri": "https://localhost:8080/",
          "height": 52
        },
        "outputId": "78c13a4d-f80f-4d6a-9dd9-729c11b63ba7"
      },
      "execution_count": null,
      "outputs": [
        {
          "output_type": "stream",
          "name": "stdout",
          "text": [
            "set color to red\n"
          ]
        },
        {
          "output_type": "execute_result",
          "data": {
            "text/plain": [
              "'blue'"
            ],
            "application/vnd.google.colaboratory.intrinsic+json": {
              "type": "string"
            }
          },
          "metadata": {},
          "execution_count": 4
        }
      ]
    },
    {
      "cell_type": "markdown",
      "metadata": {
        "id": "V_XErrJi8tvg"
      },
      "source": [
        "**Почему `color` внутри объекта не поменялся?**\n",
        "\n",
        "Потому что обращение к атрибутам класса должно иметь форму `self.attribute_name`, а `color` в методе `set_color` -- просто локальная переменная :)"
      ]
    },
    {
      "cell_type": "code",
      "metadata": {
        "id": "-a85FGS78tvh"
      },
      "source": [
        "class MyLittleClass2:\n",
        "    color = \"blue\"\n",
        "    \n",
        "    def set_color(self, new_color):\n",
        "        self.color = new_color\n",
        "        print('set color to', self.color)"
      ],
      "execution_count": null,
      "outputs": []
    },
    {
      "cell_type": "code",
      "metadata": {
        "id": "ik326jQ18tvi",
        "colab": {
          "base_uri": "https://localhost:8080/",
          "height": 35
        },
        "outputId": "00a7b578-3cf8-4d63-893c-6d7b8ea46dfa"
      },
      "source": [
        "obj = MyLittleClass2()\n",
        "obj.color"
      ],
      "execution_count": null,
      "outputs": [
        {
          "output_type": "execute_result",
          "data": {
            "text/plain": [
              "'blue'"
            ],
            "application/vnd.google.colaboratory.intrinsic+json": {
              "type": "string"
            }
          },
          "metadata": {},
          "execution_count": 6
        }
      ]
    },
    {
      "cell_type": "code",
      "source": [
        "obj.set_color('red')\n",
        "obj.color"
      ],
      "metadata": {
        "id": "wDbRqmcOFGAq",
        "colab": {
          "base_uri": "https://localhost:8080/",
          "height": 52
        },
        "outputId": "663ede41-38f0-44d9-f8d2-29c709b7dd47"
      },
      "execution_count": null,
      "outputs": [
        {
          "output_type": "stream",
          "name": "stdout",
          "text": [
            "set color to red\n"
          ]
        },
        {
          "output_type": "execute_result",
          "data": {
            "text/plain": [
              "'red'"
            ],
            "application/vnd.google.colaboratory.intrinsic+json": {
              "type": "string"
            }
          },
          "metadata": {},
          "execution_count": 7
        }
      ]
    },
    {
      "cell_type": "markdown",
      "source": [
        "`self` - ссылка на \"себя\", на экземпляр класса, для которого хотим получить значение атрибута или вызвать метод. Является первым аргументом метода и используется внутри методов. "
      ],
      "metadata": {
        "id": "cnjP70NqEcEL"
      }
    },
    {
      "cell_type": "markdown",
      "source": [
        "Можем ли мы напрямую поменять значение атрибута экземпляра?\n",
        "\n",
        "Можем, но это считается нехорошей практикой. Предпочтительнее писать т.н. методы-геттеры (для чтения значений атрибутов) и методы-сеттеры (для записи значений атрибутов)"
      ],
      "metadata": {
        "id": "UKOPmAXnEvMG"
      }
    },
    {
      "cell_type": "code",
      "metadata": {
        "id": "7HDAwT0n8tvj",
        "colab": {
          "base_uri": "https://localhost:8080/",
          "height": 35
        },
        "outputId": "2f554e4b-6242-4a5a-e671-c72415053ca4"
      },
      "source": [
        "obj.color = 'green'\n",
        "obj.color"
      ],
      "execution_count": null,
      "outputs": [
        {
          "output_type": "execute_result",
          "data": {
            "text/plain": [
              "'green'"
            ],
            "application/vnd.google.colaboratory.intrinsic+json": {
              "type": "string"
            }
          },
          "metadata": {},
          "execution_count": 8
        }
      ]
    },
    {
      "cell_type": "markdown",
      "source": [
        "## Метод-конструктор"
      ],
      "metadata": {
        "id": "g2RBsWzbO-mK"
      }
    },
    {
      "cell_type": "markdown",
      "source": [
        "Чтобы каждый раз не устанавливать состояние (значения аргументов) экземпляра класса, можем воспользоваться **конструктором** - особым методом, который вызывается при создании экземпляра класса:"
      ],
      "metadata": {
        "id": "Tkof5ShdPDEm"
      }
    },
    {
      "cell_type": "code",
      "source": [
        "class MyLittleClass3:\n",
        "    color = \"blue\"\n",
        "    name = \"color\"\n",
        "    \n",
        "    def __init__(self, name, color):\n",
        "        self.color = color\n",
        "        self.name = name\n",
        "\n",
        "    def set_color(self, new_color):\n",
        "        self.color = new_color\n",
        "        print('set color to', self.color)"
      ],
      "metadata": {
        "id": "yTI69f1KPchK"
      },
      "execution_count": null,
      "outputs": []
    },
    {
      "cell_type": "code",
      "source": [
        "obj = MyLittleClass3(\"Walter\", \"White\")\n",
        "obj.color"
      ],
      "metadata": {
        "id": "XZ26t2h4PljM",
        "colab": {
          "base_uri": "https://localhost:8080/",
          "height": 35
        },
        "outputId": "b0318bb9-760f-4745-9bd4-cf1f634762e1"
      },
      "execution_count": null,
      "outputs": [
        {
          "output_type": "execute_result",
          "data": {
            "text/plain": [
              "'White'"
            ],
            "application/vnd.google.colaboratory.intrinsic+json": {
              "type": "string"
            }
          },
          "metadata": {},
          "execution_count": 10
        }
      ]
    },
    {
      "cell_type": "code",
      "source": [
        "obj.name"
      ],
      "metadata": {
        "id": "rZbQHwH3uBPp",
        "colab": {
          "base_uri": "https://localhost:8080/",
          "height": 35
        },
        "outputId": "caba62d6-0866-4bdf-f2d8-ad56985bf213"
      },
      "execution_count": null,
      "outputs": [
        {
          "output_type": "execute_result",
          "data": {
            "text/plain": [
              "'Walter'"
            ],
            "application/vnd.google.colaboratory.intrinsic+json": {
              "type": "string"
            }
          },
          "metadata": {},
          "execution_count": 11
        }
      ]
    },
    {
      "cell_type": "code",
      "source": [
        "obj.occupation"
      ],
      "metadata": {
        "id": "RYDQFxK3uRwx",
        "colab": {
          "base_uri": "https://localhost:8080/",
          "height": 166
        },
        "outputId": "02fdfd0d-8694-4815-cbaf-ee709af0bb62"
      },
      "execution_count": null,
      "outputs": [
        {
          "output_type": "error",
          "ename": "AttributeError",
          "evalue": "ignored",
          "traceback": [
            "\u001b[0;31m---------------------------------------------------------------------------\u001b[0m",
            "\u001b[0;31mAttributeError\u001b[0m                            Traceback (most recent call last)",
            "\u001b[0;32m<ipython-input-12-9bd4031d9c8b>\u001b[0m in \u001b[0;36m<module>\u001b[0;34m\u001b[0m\n\u001b[0;32m----> 1\u001b[0;31m \u001b[0mobj\u001b[0m\u001b[0;34m.\u001b[0m\u001b[0moccupation\u001b[0m\u001b[0;34m\u001b[0m\u001b[0;34m\u001b[0m\u001b[0m\n\u001b[0m",
            "\u001b[0;31mAttributeError\u001b[0m: 'MyLittleClass3' object has no attribute 'occupation'"
          ]
        }
      ]
    },
    {
      "cell_type": "markdown",
      "metadata": {
        "id": "68Z7ar6J8tvm"
      },
      "source": [
        "Поговорим об аргументе `self` в определении метода. Когда мы вызываем метод как `obj.methodname()`, неявно первым аргументом передается ссылка на `obj` в качестве аргумента `self`:"
      ]
    },
    {
      "cell_type": "code",
      "metadata": {
        "id": "uSvwudNN8tvm"
      },
      "source": [
        "class MyLittleClass4:\n",
        "    def method_with_self(self, arg):\n",
        "        print(arg)\n",
        "      \n",
        "    def method_without_self(arg):\n",
        "        print(arg)"
      ],
      "execution_count": null,
      "outputs": []
    },
    {
      "cell_type": "code",
      "metadata": {
        "id": "A2qvSIra8tvm",
        "colab": {
          "base_uri": "https://localhost:8080/",
          "height": 218
        },
        "outputId": "296423eb-01fd-4b86-e42f-142b316e7b20"
      },
      "source": [
        "obj = MyLittleClass4()\n",
        "obj.method_with_self('i am an argument')\n",
        "obj.method_without_self('i am another argument') # здесь мы на самом деле передаем по два аргумента, self и arg"
      ],
      "execution_count": null,
      "outputs": [
        {
          "output_type": "stream",
          "name": "stdout",
          "text": [
            "i am an argument\n"
          ]
        },
        {
          "output_type": "error",
          "ename": "TypeError",
          "evalue": "ignored",
          "traceback": [
            "\u001b[0;31m---------------------------------------------------------------------------\u001b[0m",
            "\u001b[0;31mTypeError\u001b[0m                                 Traceback (most recent call last)",
            "\u001b[0;32m<ipython-input-14-4317c6c3712c>\u001b[0m in \u001b[0;36m<module>\u001b[0;34m\u001b[0m\n\u001b[1;32m      1\u001b[0m \u001b[0mobj\u001b[0m \u001b[0;34m=\u001b[0m \u001b[0mMyLittleClass4\u001b[0m\u001b[0;34m(\u001b[0m\u001b[0;34m)\u001b[0m\u001b[0;34m\u001b[0m\u001b[0;34m\u001b[0m\u001b[0m\n\u001b[1;32m      2\u001b[0m \u001b[0mobj\u001b[0m\u001b[0;34m.\u001b[0m\u001b[0mmethod_with_self\u001b[0m\u001b[0;34m(\u001b[0m\u001b[0;34m'i am an argument'\u001b[0m\u001b[0;34m)\u001b[0m\u001b[0;34m\u001b[0m\u001b[0;34m\u001b[0m\u001b[0m\n\u001b[0;32m----> 3\u001b[0;31m \u001b[0mobj\u001b[0m\u001b[0;34m.\u001b[0m\u001b[0mmethod_without_self\u001b[0m\u001b[0;34m(\u001b[0m\u001b[0;34m'i am another argument'\u001b[0m\u001b[0;34m)\u001b[0m \u001b[0;31m# здесь мы на самом деле передаем по два аргумента, self и arg\u001b[0m\u001b[0;34m\u001b[0m\u001b[0;34m\u001b[0m\u001b[0m\n\u001b[0m",
            "\u001b[0;31mTypeError\u001b[0m: method_without_self() takes 1 positional argument but 2 were given"
          ]
        }
      ]
    },
    {
      "cell_type": "markdown",
      "source": [
        "## Методы и атрибуты по умолчанию"
      ],
      "metadata": {
        "id": "AaACvqbHHa3O"
      }
    },
    {
      "cell_type": "markdown",
      "source": [
        "Посмотрим какие методы и атрибуты создаются для класса и экземпляра по умолчанию. Для этого нам поможет функция `dir`:"
      ],
      "metadata": {
        "id": "ag-KQS8YU1fR"
      }
    },
    {
      "cell_type": "code",
      "metadata": {
        "id": "FoaK__4b8tvt"
      },
      "source": [
        "help(dir)"
      ],
      "execution_count": null,
      "outputs": []
    },
    {
      "cell_type": "markdown",
      "source": [
        "Создадим \"пустой\" класс:"
      ],
      "metadata": {
        "id": "NzJmlYEBH2H8"
      }
    },
    {
      "cell_type": "code",
      "metadata": {
        "id": "5Vx7Lsxn8tvt"
      },
      "source": [
        "#class ClassWithNothing(object):\n",
        "class ClassWithNothing:\n",
        "    pass"
      ],
      "execution_count": null,
      "outputs": []
    },
    {
      "cell_type": "markdown",
      "source": [
        "Создаем экземпляра \"пустого\" класса:"
      ],
      "metadata": {
        "id": "XBnN6ObkIEID"
      }
    },
    {
      "cell_type": "code",
      "source": [
        "nobject = ClassWithNothing()"
      ],
      "metadata": {
        "id": "34P9XLQDHgY8"
      },
      "execution_count": null,
      "outputs": []
    },
    {
      "cell_type": "markdown",
      "source": [
        "Напишем простую функцию для вывода атрибутов и методов:"
      ],
      "metadata": {
        "id": "3_xKLnSdIIPV"
      }
    },
    {
      "cell_type": "code",
      "source": [
        "dir(nobject)"
      ],
      "metadata": {
        "id": "MEO2qc0WHia4",
        "colab": {
          "base_uri": "https://localhost:8080/"
        },
        "outputId": "be417edb-9cb3-4faa-89b0-4d4042c29d37"
      },
      "execution_count": null,
      "outputs": [
        {
          "output_type": "execute_result",
          "data": {
            "text/plain": [
              "['__class__',\n",
              " '__delattr__',\n",
              " '__dict__',\n",
              " '__dir__',\n",
              " '__doc__',\n",
              " '__eq__',\n",
              " '__format__',\n",
              " '__ge__',\n",
              " '__getattribute__',\n",
              " '__gt__',\n",
              " '__hash__',\n",
              " '__init__',\n",
              " '__init_subclass__',\n",
              " '__le__',\n",
              " '__lt__',\n",
              " '__module__',\n",
              " '__ne__',\n",
              " '__new__',\n",
              " '__reduce__',\n",
              " '__reduce_ex__',\n",
              " '__repr__',\n",
              " '__setattr__',\n",
              " '__sizeof__',\n",
              " '__str__',\n",
              " '__subclasshook__',\n",
              " '__weakref__']"
            ]
          },
          "metadata": {},
          "execution_count": 17
        }
      ]
    },
    {
      "cell_type": "markdown",
      "source": [
        "## Приватность атрибутов"
      ],
      "metadata": {
        "id": "C63rBf-xIW4i"
      }
    },
    {
      "cell_type": "markdown",
      "source": [
        "Во многих языках программирования можно регулировать доступ до атрибутов класса от внешнего кода и других классов. Обычно выделяют три уровня доступа:\n",
        "- публичный - атрибуты доступны как внутри класса, так и из наружнего кода\n",
        "- защищенный - атрибуты доступны внутри класса и для наследников класса\n",
        "- приватный - атрибуты доступны только внутри класса"
      ],
      "metadata": {
        "id": "7b_vCFaFJYad"
      }
    },
    {
      "cell_type": "markdown",
      "metadata": {
        "id": "svmbSvN18tvy"
      },
      "source": [
        "А есть ли в Python приватность атрибутов? Можем ли мы запретить читать и менять атрибуты объекта снаружи (внешним кодом)?"
      ]
    },
    {
      "cell_type": "code",
      "metadata": {
        "id": "_iuASScu8tvy"
      },
      "source": [
        "class VeryPrivateDataHolder:\n",
        "    not_secret = 0     # public\n",
        "    _secret = 1        # protected\n",
        "    __very_secret = 2  # private"
      ],
      "execution_count": null,
      "outputs": []
    },
    {
      "cell_type": "code",
      "metadata": {
        "id": "mRYfzczI8tvy"
      },
      "source": [
        "obj = VeryPrivateDataHolder()"
      ],
      "execution_count": null,
      "outputs": []
    },
    {
      "cell_type": "code",
      "source": [
        "obj.not_secret"
      ],
      "metadata": {
        "id": "P5ZSyeW9Kye5",
        "colab": {
          "base_uri": "https://localhost:8080/"
        },
        "outputId": "664977b8-055a-42bd-c69e-49ecd7219238"
      },
      "execution_count": null,
      "outputs": [
        {
          "output_type": "execute_result",
          "data": {
            "text/plain": [
              "0"
            ]
          },
          "metadata": {},
          "execution_count": 21
        }
      ]
    },
    {
      "cell_type": "code",
      "source": [
        "obj._secret"
      ],
      "metadata": {
        "id": "finNrT9CKv52",
        "colab": {
          "base_uri": "https://localhost:8080/"
        },
        "outputId": "d5b0c26c-ae98-421f-f09b-3bd6eb76dc1d"
      },
      "execution_count": null,
      "outputs": [
        {
          "output_type": "execute_result",
          "data": {
            "text/plain": [
              "1"
            ]
          },
          "metadata": {},
          "execution_count": 22
        }
      ]
    },
    {
      "cell_type": "code",
      "source": [
        "obj.__very_secret"
      ],
      "metadata": {
        "id": "biUg4WByKxkK",
        "colab": {
          "base_uri": "https://localhost:8080/",
          "height": 166
        },
        "outputId": "acd800aa-e63c-4a77-88df-c2e240447e83"
      },
      "execution_count": null,
      "outputs": [
        {
          "output_type": "error",
          "ename": "AttributeError",
          "evalue": "ignored",
          "traceback": [
            "\u001b[0;31m---------------------------------------------------------------------------\u001b[0m",
            "\u001b[0;31mAttributeError\u001b[0m                            Traceback (most recent call last)",
            "\u001b[0;32m<ipython-input-23-bc0a326e6db6>\u001b[0m in \u001b[0;36m<module>\u001b[0;34m\u001b[0m\n\u001b[0;32m----> 1\u001b[0;31m \u001b[0mobj\u001b[0m\u001b[0;34m.\u001b[0m\u001b[0m__very_secret\u001b[0m\u001b[0;34m\u001b[0m\u001b[0;34m\u001b[0m\u001b[0m\n\u001b[0m",
            "\u001b[0;31mAttributeError\u001b[0m: 'VeryPrivateDataHolder' object has no attribute '__very_secret'"
          ]
        }
      ]
    },
    {
      "cell_type": "markdown",
      "metadata": {
        "id": "bbciyFza8tvy"
      },
      "source": [
        "Казалось бы, в Python всё-таки есть приватность, но:"
      ]
    },
    {
      "cell_type": "code",
      "metadata": {
        "id": "8CAL_QRy8tvy",
        "colab": {
          "base_uri": "https://localhost:8080/"
        },
        "outputId": "a0feb012-a575-4263-8800-ec4c9f3aaef0"
      },
      "source": [
        "obj._VeryPrivateDataHolder__very_secret"
      ],
      "execution_count": null,
      "outputs": [
        {
          "output_type": "execute_result",
          "data": {
            "text/plain": [
              "2"
            ]
          },
          "metadata": {},
          "execution_count": 24
        }
      ]
    },
    {
      "cell_type": "markdown",
      "source": [
        "Т.е. при желании все же можем получить доступ к \"приватным\" атрибутом, но делать так не рекомендуется, особенно не со своими классами!"
      ],
      "metadata": {
        "id": "17sN5LhkItL5"
      }
    },
    {
      "cell_type": "code",
      "metadata": {
        "id": "pXLwM5g88tvz",
        "colab": {
          "base_uri": "https://localhost:8080/",
          "height": 35
        },
        "outputId": "8838e906-e7fd-4738-ed36-7d2539c83ae9"
      },
      "source": [
        "obj._VeryPrivateDataHolder__very_secret = 'new secret'\n",
        "obj._VeryPrivateDataHolder__very_secret"
      ],
      "execution_count": null,
      "outputs": [
        {
          "output_type": "execute_result",
          "data": {
            "text/plain": [
              "'new secret'"
            ],
            "application/vnd.google.colaboratory.intrinsic+json": {
              "type": "string"
            }
          },
          "metadata": {},
          "execution_count": 25
        }
      ]
    },
    {
      "cell_type": "markdown",
      "source": [
        "## Статические методы и поля\n"
      ],
      "metadata": {
        "id": "8jO2WHZGf1S3"
      }
    },
    {
      "cell_type": "markdown",
      "source": [
        "Статические поля и методы вызываются не от объекта а от всего класса"
      ],
      "metadata": {
        "id": "VvbTDt-SiIma"
      }
    },
    {
      "cell_type": "code",
      "source": [
        "class ItemsWithIndex:\n",
        "    index = 0\n",
        "    amount = 0\n",
        "    def __init__(self):        \n",
        "        self.index = ItemsWithIndex.amount\n",
        "        ItemsWithIndex.amount += 1"
      ],
      "metadata": {
        "id": "LztgV54Vf5xn"
      },
      "execution_count": null,
      "outputs": []
    },
    {
      "cell_type": "code",
      "source": [
        "obj1 = ItemsWithIndex()\n",
        "obj2 = ItemsWithIndex()\n",
        "obj3 = ItemsWithIndex()\n",
        "print(obj1.index, obj2.index, obj3.index)\n",
        "print(ItemsWithIndex.amount)\n",
        "\n"
      ],
      "metadata": {
        "id": "VrXwf1tHgvKm",
        "colab": {
          "base_uri": "https://localhost:8080/"
        },
        "outputId": "a98081bc-ba0c-4d1e-eebe-ee37d76a1a8b"
      },
      "execution_count": null,
      "outputs": [
        {
          "output_type": "stream",
          "name": "stdout",
          "text": [
            "0 1 2\n",
            "3\n"
          ]
        }
      ]
    },
    {
      "cell_type": "code",
      "source": [
        "class Items:\n",
        "    def objectMethod(self):\n",
        "        print(\"Вызван метод objectMethod\")\n",
        "\n",
        "    def objectMethod2():\n",
        "        print(\"Вызван метод objectMethod2\")\n",
        "    \n",
        "    @staticmethod\n",
        "    def objectMethod3():\n",
        "        print(\"Вызван метод objectMethod3\")"
      ],
      "metadata": {
        "id": "vlFCFZDQhKLK"
      },
      "execution_count": null,
      "outputs": []
    },
    {
      "cell_type": "code",
      "source": [
        "item = Items()"
      ],
      "metadata": {
        "id": "vxakMqgDho5t"
      },
      "execution_count": null,
      "outputs": []
    },
    {
      "cell_type": "code",
      "source": [
        "item.objectMethod()"
      ],
      "metadata": {
        "id": "Csf7wDsOhr2d",
        "colab": {
          "base_uri": "https://localhost:8080/"
        },
        "outputId": "ff9f146e-6013-489b-ae30-52bdaa37549a"
      },
      "execution_count": null,
      "outputs": [
        {
          "output_type": "stream",
          "name": "stdout",
          "text": [
            "Вызван метод objectMethod\n"
          ]
        }
      ]
    },
    {
      "cell_type": "code",
      "source": [
        "Items.objectMethod()"
      ],
      "metadata": {
        "id": "ZHdPD17fh3Pn",
        "colab": {
          "base_uri": "https://localhost:8080/",
          "height": 166
        },
        "outputId": "c713b04d-b75d-4ca2-bc03-9970159bfef4"
      },
      "execution_count": null,
      "outputs": [
        {
          "output_type": "error",
          "ename": "TypeError",
          "evalue": "ignored",
          "traceback": [
            "\u001b[0;31m---------------------------------------------------------------------------\u001b[0m",
            "\u001b[0;31mTypeError\u001b[0m                                 Traceback (most recent call last)",
            "\u001b[0;32m<ipython-input-38-f180e408df1d>\u001b[0m in \u001b[0;36m<module>\u001b[0;34m\u001b[0m\n\u001b[0;32m----> 1\u001b[0;31m \u001b[0mItems\u001b[0m\u001b[0;34m.\u001b[0m\u001b[0mobjectMethod\u001b[0m\u001b[0;34m(\u001b[0m\u001b[0;34m)\u001b[0m\u001b[0;34m\u001b[0m\u001b[0;34m\u001b[0m\u001b[0m\n\u001b[0m",
            "\u001b[0;31mTypeError\u001b[0m: objectMethod() missing 1 required positional argument: 'self'"
          ]
        }
      ]
    },
    {
      "cell_type": "code",
      "source": [
        "item.objectMethod2()"
      ],
      "metadata": {
        "id": "6KMnw3C7h3tv",
        "colab": {
          "base_uri": "https://localhost:8080/",
          "height": 166
        },
        "outputId": "04ed9a7e-b2f2-4970-9d34-8b861501539e"
      },
      "execution_count": null,
      "outputs": [
        {
          "output_type": "error",
          "ename": "TypeError",
          "evalue": "ignored",
          "traceback": [
            "\u001b[0;31m---------------------------------------------------------------------------\u001b[0m",
            "\u001b[0;31mTypeError\u001b[0m                                 Traceback (most recent call last)",
            "\u001b[0;32m<ipython-input-39-12829eab9cad>\u001b[0m in \u001b[0;36m<module>\u001b[0;34m\u001b[0m\n\u001b[0;32m----> 1\u001b[0;31m \u001b[0mitem\u001b[0m\u001b[0;34m.\u001b[0m\u001b[0mobjectMethod2\u001b[0m\u001b[0;34m(\u001b[0m\u001b[0;34m)\u001b[0m\u001b[0;34m\u001b[0m\u001b[0;34m\u001b[0m\u001b[0m\n\u001b[0m",
            "\u001b[0;31mTypeError\u001b[0m: objectMethod2() takes 0 positional arguments but 1 was given"
          ]
        }
      ]
    },
    {
      "cell_type": "code",
      "source": [
        "Items.objectMethod2()"
      ],
      "metadata": {
        "id": "fHAfFeLGh6EQ",
        "colab": {
          "base_uri": "https://localhost:8080/"
        },
        "outputId": "811f3767-ae6c-4524-9d3c-6997feba3cc0"
      },
      "execution_count": null,
      "outputs": [
        {
          "output_type": "stream",
          "name": "stdout",
          "text": [
            "Вызван метод objectMethod2\n"
          ]
        }
      ]
    },
    {
      "cell_type": "code",
      "source": [
        "item.objectMethod3()"
      ],
      "metadata": {
        "id": "BvZKcdDGh7Zo",
        "colab": {
          "base_uri": "https://localhost:8080/"
        },
        "outputId": "b9f7b104-0ec2-4501-a243-d2ec49541e70"
      },
      "execution_count": null,
      "outputs": [
        {
          "output_type": "stream",
          "name": "stdout",
          "text": [
            "Вызван метод objectMethod3\n"
          ]
        }
      ]
    },
    {
      "cell_type": "code",
      "source": [
        "Items.objectMethod3()"
      ],
      "metadata": {
        "id": "-wVvFrGxh8zY",
        "colab": {
          "base_uri": "https://localhost:8080/"
        },
        "outputId": "8f958a0e-800e-4666-f939-b90b22ca2383"
      },
      "execution_count": null,
      "outputs": [
        {
          "output_type": "stream",
          "name": "stdout",
          "text": [
            "Вызван метод objectMethod3\n"
          ]
        }
      ]
    },
    {
      "cell_type": "markdown",
      "source": [
        "## Наследование"
      ],
      "metadata": {
        "id": "_nwkm282NnE1"
      }
    },
    {
      "cell_type": "markdown",
      "source": [
        "Рассмотрим как работает наследование в Python с помощью следующих классов:"
      ],
      "metadata": {
        "id": "yJBRpQ-nNwtK"
      }
    },
    {
      "cell_type": "code",
      "source": [
        "class Animal:  # неявно наследуется от класса object\n",
        "    some_value = \"animal\"\n",
        "\n",
        "    def __init__(self):\n",
        "        print(\"i am an animal\")\n",
        "    \n",
        "    def speak(self):\n",
        "        raise NotImplementedError('i don\\'t know how to speak')  # ошибка, показывающая что метод еще не реализован"
      ],
      "metadata": {
        "id": "4Q1J9BqmN59a"
      },
      "execution_count": null,
      "outputs": []
    },
    {
      "cell_type": "code",
      "source": [
        "animal = Animal()\n",
        "print(animal.some_value)\n",
        "animal.speak()"
      ],
      "metadata": {
        "id": "THacMee3NxRd"
      },
      "execution_count": null,
      "outputs": []
    },
    {
      "cell_type": "code",
      "source": [
        "class Cat(Animal):\n",
        "    some_value = \"cat\"\n",
        "\n",
        "    def __init__(self):\n",
        "        super().__init__()\n",
        "        print(\"i am a cat\")\n",
        "    \n",
        "    def speak(self):\n",
        "        print('meoooow')"
      ],
      "metadata": {
        "id": "UZoLugjoOAM7"
      },
      "execution_count": null,
      "outputs": []
    },
    {
      "cell_type": "code",
      "source": [
        "cat = Cat()"
      ],
      "metadata": {
        "id": "-cXPv8xvXe0m",
        "colab": {
          "base_uri": "https://localhost:8080/"
        },
        "outputId": "ed143ac1-e9fd-4648-8ec8-ade62e5c1c7f"
      },
      "execution_count": null,
      "outputs": [
        {
          "output_type": "stream",
          "name": "stdout",
          "text": [
            "i am an animal\n",
            "i am a cat\n"
          ]
        }
      ]
    },
    {
      "cell_type": "code",
      "source": [
        "cat.some_value # переопределено"
      ],
      "metadata": {
        "id": "3gwKICmpCQ4b"
      },
      "execution_count": null,
      "outputs": []
    },
    {
      "cell_type": "code",
      "source": [
        "cat.speak()"
      ],
      "metadata": {
        "id": "T9AZV0xXCSfN",
        "colab": {
          "base_uri": "https://localhost:8080/"
        },
        "outputId": "aeaba4be-6d0e-4512-aefa-80a98d034b97"
      },
      "execution_count": null,
      "outputs": [
        {
          "output_type": "stream",
          "name": "stdout",
          "text": [
            "meoooow\n"
          ]
        }
      ]
    },
    {
      "cell_type": "code",
      "source": [
        "class Dog(Animal):\n",
        "    some_value = \"dog\"\n",
        "    \n",
        "    def __init__(self):\n",
        "        super().__init__()\n",
        "        print(\"i am a dog\")"
      ],
      "metadata": {
        "id": "nOawrxOhOBrP"
      },
      "execution_count": null,
      "outputs": []
    },
    {
      "cell_type": "code",
      "source": [
        "dog = Dog()"
      ],
      "metadata": {
        "id": "dd7WBjq0XgJ5",
        "colab": {
          "base_uri": "https://localhost:8080/"
        },
        "outputId": "3efaebc6-4958-4549-cf9c-cf1e1c94da17"
      },
      "execution_count": null,
      "outputs": [
        {
          "output_type": "stream",
          "name": "stdout",
          "text": [
            "i am an animal\n",
            "i am a dog\n"
          ]
        }
      ]
    },
    {
      "cell_type": "code",
      "source": [
        "dog.some_value # переопределено"
      ],
      "metadata": {
        "id": "USoFSSFfCvgu",
        "colab": {
          "base_uri": "https://localhost:8080/",
          "height": 35
        },
        "outputId": "f16189cc-3325-4f95-de17-61c19b55d48d"
      },
      "execution_count": null,
      "outputs": [
        {
          "output_type": "execute_result",
          "data": {
            "text/plain": [
              "'dog'"
            ],
            "application/vnd.google.colaboratory.intrinsic+json": {
              "type": "string"
            }
          },
          "metadata": {},
          "execution_count": 50
        }
      ]
    },
    {
      "cell_type": "code",
      "source": [
        "dog.speak()"
      ],
      "metadata": {
        "id": "vZNgGiF4CwqS",
        "colab": {
          "base_uri": "https://localhost:8080/",
          "height": 253
        },
        "outputId": "bd5db415-a9c7-4f46-a4fe-e78a25d5d7d6"
      },
      "execution_count": null,
      "outputs": [
        {
          "output_type": "error",
          "ename": "NotImplementedError",
          "evalue": "ignored",
          "traceback": [
            "\u001b[0;31m---------------------------------------------------------------------------\u001b[0m",
            "\u001b[0;31mNotImplementedError\u001b[0m                       Traceback (most recent call last)",
            "\u001b[0;32m<ipython-input-51-35a36b50d121>\u001b[0m in \u001b[0;36m<module>\u001b[0;34m\u001b[0m\n\u001b[0;32m----> 1\u001b[0;31m \u001b[0mdog\u001b[0m\u001b[0;34m.\u001b[0m\u001b[0mspeak\u001b[0m\u001b[0;34m(\u001b[0m\u001b[0;34m)\u001b[0m\u001b[0;34m\u001b[0m\u001b[0;34m\u001b[0m\u001b[0m\n\u001b[0m",
            "\u001b[0;32m<ipython-input-43-337e3dba9ed0>\u001b[0m in \u001b[0;36mspeak\u001b[0;34m(self)\u001b[0m\n\u001b[1;32m      6\u001b[0m \u001b[0;34m\u001b[0m\u001b[0m\n\u001b[1;32m      7\u001b[0m     \u001b[0;32mdef\u001b[0m \u001b[0mspeak\u001b[0m\u001b[0;34m(\u001b[0m\u001b[0mself\u001b[0m\u001b[0;34m)\u001b[0m\u001b[0;34m:\u001b[0m\u001b[0;34m\u001b[0m\u001b[0;34m\u001b[0m\u001b[0m\n\u001b[0;32m----> 8\u001b[0;31m         \u001b[0;32mraise\u001b[0m \u001b[0mNotImplementedError\u001b[0m\u001b[0;34m(\u001b[0m\u001b[0;34m'i don\\'t know how to speak'\u001b[0m\u001b[0;34m)\u001b[0m  \u001b[0;31m# ошибка, показывающая что метод еще не реализован\u001b[0m\u001b[0;34m\u001b[0m\u001b[0;34m\u001b[0m\u001b[0m\n\u001b[0m",
            "\u001b[0;31mNotImplementedError\u001b[0m: i don't know how to speak"
          ]
        }
      ]
    },
    {
      "cell_type": "code",
      "source": [
        "class Hedgehog(Animal):\n",
        "    def __init__(self):\n",
        "        super().__init__()\n",
        "        print(\"i am a hedgehog\")"
      ],
      "metadata": {
        "id": "c4GYd4F9Ntw7"
      },
      "execution_count": null,
      "outputs": []
    },
    {
      "cell_type": "code",
      "source": [
        "hedgehog = Hedgehog()"
      ],
      "metadata": {
        "id": "Ixm_WBFLC_sv",
        "colab": {
          "base_uri": "https://localhost:8080/"
        },
        "outputId": "e5b3152c-f83c-4e4f-84a0-a16b5dcbea05"
      },
      "execution_count": null,
      "outputs": [
        {
          "output_type": "stream",
          "name": "stdout",
          "text": [
            "i am an animal\n",
            "i am a hedgehog\n"
          ]
        }
      ]
    },
    {
      "cell_type": "code",
      "source": [
        "hedgehog.some_value"
      ],
      "metadata": {
        "id": "T3f630xBDDZ8",
        "colab": {
          "base_uri": "https://localhost:8080/",
          "height": 35
        },
        "outputId": "17d570c1-d901-4a83-e72e-c078c1e7ea8d"
      },
      "execution_count": null,
      "outputs": [
        {
          "output_type": "execute_result",
          "data": {
            "text/plain": [
              "'animal'"
            ],
            "application/vnd.google.colaboratory.intrinsic+json": {
              "type": "string"
            }
          },
          "metadata": {},
          "execution_count": 54
        }
      ]
    },
    {
      "cell_type": "code",
      "source": [
        "hedgehog.speak()"
      ],
      "metadata": {
        "id": "zPCUxdvODP98",
        "colab": {
          "base_uri": "https://localhost:8080/",
          "height": 253
        },
        "outputId": "e51902d0-1f9d-43ff-d2c7-6bfdb52bf9b4"
      },
      "execution_count": null,
      "outputs": [
        {
          "output_type": "error",
          "ename": "NotImplementedError",
          "evalue": "ignored",
          "traceback": [
            "\u001b[0;31m---------------------------------------------------------------------------\u001b[0m",
            "\u001b[0;31mNotImplementedError\u001b[0m                       Traceback (most recent call last)",
            "\u001b[0;32m<ipython-input-55-3a474e511955>\u001b[0m in \u001b[0;36m<module>\u001b[0;34m\u001b[0m\n\u001b[0;32m----> 1\u001b[0;31m \u001b[0mhedgehog\u001b[0m\u001b[0;34m.\u001b[0m\u001b[0mspeak\u001b[0m\u001b[0;34m(\u001b[0m\u001b[0;34m)\u001b[0m\u001b[0;34m\u001b[0m\u001b[0;34m\u001b[0m\u001b[0m\n\u001b[0m",
            "\u001b[0;32m<ipython-input-43-337e3dba9ed0>\u001b[0m in \u001b[0;36mspeak\u001b[0;34m(self)\u001b[0m\n\u001b[1;32m      6\u001b[0m \u001b[0;34m\u001b[0m\u001b[0m\n\u001b[1;32m      7\u001b[0m     \u001b[0;32mdef\u001b[0m \u001b[0mspeak\u001b[0m\u001b[0;34m(\u001b[0m\u001b[0mself\u001b[0m\u001b[0;34m)\u001b[0m\u001b[0;34m:\u001b[0m\u001b[0;34m\u001b[0m\u001b[0;34m\u001b[0m\u001b[0m\n\u001b[0;32m----> 8\u001b[0;31m         \u001b[0;32mraise\u001b[0m \u001b[0mNotImplementedError\u001b[0m\u001b[0;34m(\u001b[0m\u001b[0;34m'i don\\'t know how to speak'\u001b[0m\u001b[0;34m)\u001b[0m  \u001b[0;31m# ошибка, показывающая что метод еще не реализован\u001b[0m\u001b[0;34m\u001b[0m\u001b[0;34m\u001b[0m\u001b[0m\n\u001b[0m",
            "\u001b[0;31mNotImplementedError\u001b[0m: i don't know how to speak"
          ]
        }
      ]
    },
    {
      "cell_type": "markdown",
      "source": [
        "Ромбовидное наследование возможно, но очень редко полезен на практике!"
      ],
      "metadata": {
        "id": "JfgQNmBsNxuW"
      }
    },
    {
      "cell_type": "code",
      "source": [
        "#      Animal\n",
        "#    /       \\ \n",
        "#  Cat       Dog\n",
        "#    \\       /\n",
        "#      CatDog"
      ],
      "metadata": {
        "id": "_OQul2rKRPYU"
      },
      "execution_count": null,
      "outputs": []
    },
    {
      "cell_type": "code",
      "source": [
        "class CatDog(Cat, Dog): \n",
        "    def __init__(self):\n",
        "        super().__init__()\n",
        "        print(\"i am a CatDog!\")"
      ],
      "metadata": {
        "id": "C3O0wR3LN2Z9"
      },
      "execution_count": null,
      "outputs": []
    },
    {
      "cell_type": "code",
      "source": [
        "catdog = CatDog()\n",
        "catdog.some_value"
      ],
      "metadata": {
        "id": "mkKBiyZsODGu",
        "colab": {
          "base_uri": "https://localhost:8080/",
          "height": 104
        },
        "outputId": "50cf6c60-7510-4171-b647-d2bed8b0e5ca"
      },
      "execution_count": null,
      "outputs": [
        {
          "output_type": "stream",
          "name": "stdout",
          "text": [
            "i am an animal\n",
            "i am a dog\n",
            "i am a cat\n",
            "i am a CatDog!\n"
          ]
        },
        {
          "output_type": "execute_result",
          "data": {
            "text/plain": [
              "'cat'"
            ],
            "application/vnd.google.colaboratory.intrinsic+json": {
              "type": "string"
            }
          },
          "metadata": {},
          "execution_count": 57
        }
      ]
    },
    {
      "cell_type": "markdown",
      "source": [
        "Порядок перечисления родителей важен!"
      ],
      "metadata": {
        "id": "TFbElcmmOBjL"
      }
    },
    {
      "cell_type": "code",
      "source": [
        "class DogCat(Dog, Cat):  # теперь наоборот\n",
        "    def __init__(self):\n",
        "        super().__init__()\n",
        "        print(\"i am a CatDog!\")\n",
        "\n",
        "dogcat = DogCat()\n",
        "dogcat.some_value"
      ],
      "metadata": {
        "id": "eFUlsOS2OFTb",
        "colab": {
          "base_uri": "https://localhost:8080/",
          "height": 104
        },
        "outputId": "7400ed16-094f-4fa5-8042-88e509d12f75"
      },
      "execution_count": null,
      "outputs": [
        {
          "output_type": "stream",
          "name": "stdout",
          "text": [
            "i am an animal\n",
            "i am a cat\n",
            "i am a dog\n",
            "i am a CatDog!\n"
          ]
        },
        {
          "output_type": "execute_result",
          "data": {
            "text/plain": [
              "'dog'"
            ],
            "application/vnd.google.colaboratory.intrinsic+json": {
              "type": "string"
            }
          },
          "metadata": {},
          "execution_count": 58
        }
      ]
    }
  ]
}