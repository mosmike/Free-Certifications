{
  "nbformat": 4,
  "nbformat_minor": 0,
  "metadata": {
    "colab": {
      "provenance": [],
      "collapsed_sections": [
        "3yypHC-c5gn-",
        "BsxXDCqi7mlE",
        "tl0vM7uG8Unx",
        "fpz57mml-JHc",
        "5Q1sfMYd-qaW",
        "Qm8GyyIU-9VK",
        "7mmvdC2QBxjz"
      ],
      "include_colab_link": true
    },
    "kernelspec": {
      "name": "python3",
      "display_name": "Python 3"
    },
    "language_info": {
      "name": "python"
    }
  },
  "cells": [
    {
      "cell_type": "markdown",
      "metadata": {
        "id": "view-in-github",
        "colab_type": "text"
      },
      "source": [
        "<a href=\"https://colab.research.google.com/github/mosmike/Free-Certifications/blob/main/2022_09_14_Skypro_practice.ipynb\" target=\"_parent\"><img src=\"https://colab.research.google.com/assets/colab-badge.svg\" alt=\"Open In Colab\"/></a>"
      ]
    },
    {
      "cell_type": "markdown",
      "source": [
        "# Шаг 1 - Print"
      ],
      "metadata": {
        "id": "3yypHC-c5gn-"
      }
    },
    {
      "cell_type": "markdown",
      "source": [
        "Именно с print многие начинают свое знакомство с Python, выводя на экран заветную фразу Hello, World!\n",
        "\n",
        "Print - это функция, с помощью которой можно вывести информацию на экран.\n",
        "\n",
        "Синтаксис:"
      ],
      "metadata": {
        "id": "pcbRf4qM7A55"
      }
    },
    {
      "cell_type": "code",
      "source": [
        "print(\"Hello world\")  # выведет на экран все, что заключено в \"\""
      ],
      "metadata": {
        "id": "EqWRy2OS6IrJ"
      },
      "execution_count": null,
      "outputs": []
    },
    {
      "cell_type": "markdown",
      "source": [
        "Если необходимо вывести на экран несколько строк - используйте print для каждой из них."
      ],
      "metadata": {
        "id": "lflBGoFR7N-2"
      }
    },
    {
      "cell_type": "markdown",
      "source": [
        "****Задание****\n",
        "\n",
        "Выведите:\n",
        "\n",
        "\"Это моя первая программа\"\n",
        "\n",
        "\"Я люблю котов\"\n",
        "\n",
        "\"Не знаю, что еще сказать\""
      ],
      "metadata": {
        "id": "2NVvHtsC6rSc"
      }
    },
    {
      "cell_type": "code",
      "source": [
        "# Исходный код\n",
        "print()\n",
        "print()\n",
        "print()"
      ],
      "metadata": {
        "id": "cMb_2EEz6rSc"
      },
      "execution_count": null,
      "outputs": []
    },
    {
      "cell_type": "markdown",
      "source": [
        "# Шаг 2 - Переменная"
      ],
      "metadata": {
        "id": "BsxXDCqi7mlE"
      }
    },
    {
      "cell_type": "markdown",
      "source": [
        "Переменная — это коробка, в которой лежат данные. У переменной есть:\n",
        "\n",
        "- имя\n",
        "- значение\n",
        "- тип\n",
        "\n",
        "Например:"
      ],
      "metadata": {
        "id": "tYnygnXv7vs_"
      }
    },
    {
      "cell_type": "code",
      "source": [
        "name = \"Skypro\""
      ],
      "metadata": {
        "id": "4dCGirhF736E"
      },
      "execution_count": null,
      "outputs": []
    },
    {
      "cell_type": "markdown",
      "source": [
        "где name - это имя переменной, Skypro - это значение переменной, о типах переменных мы поговорим чуть позже.\n",
        "\n",
        "Обратите внимание, что текстовые значения переменных записываются в кавычках.\n",
        "\n",
        "Еще примеры:"
      ],
      "metadata": {
        "id": "JXlQFJVQ77EJ"
      }
    },
    {
      "cell_type": "code",
      "source": [
        "profession = \"Python-разработчик\"\n",
        "language = \"Python\"\n",
        "duration = \"10 months\""
      ],
      "metadata": {
        "id": "s7E-mwIy79Im"
      },
      "execution_count": null,
      "outputs": []
    },
    {
      "cell_type": "markdown",
      "source": [
        "Теперь с помощью функции print мы можем выводить на экран значения переменных:"
      ],
      "metadata": {
        "id": "YQMzYspJ7_lb"
      }
    },
    {
      "cell_type": "code",
      "source": [
        "print(profession) #выведет на экран Python-разработчик\n",
        "print(language) #выведет на экран Python\n",
        "print(duration) #выведет на экран 10 months"
      ],
      "metadata": {
        "id": "mCuHHyoe8CfV"
      },
      "execution_count": null,
      "outputs": []
    },
    {
      "cell_type": "markdown",
      "source": [
        "****Задание****\n",
        "\n",
        "Создайте переменную line, задайте ей значение \"Я изучаю питон\" и выведите это значение на экран."
      ],
      "metadata": {
        "id": "h27Y_Nal8Nyg"
      }
    },
    {
      "cell_type": "code",
      "source": [
        "# Исходный код\n",
        "\n",
        "... = ...\n",
        "\n",
        "print(line)"
      ],
      "metadata": {
        "id": "QD2JDlGM8PDW"
      },
      "execution_count": null,
      "outputs": []
    },
    {
      "cell_type": "markdown",
      "source": [
        "# Шаг 3 - Типы"
      ],
      "metadata": {
        "id": "tl0vM7uG8Unx"
      }
    },
    {
      "cell_type": "markdown",
      "source": [
        "Теперь поговорим про типы переменных. Рассмотрим два самых распространенных из них:\n",
        "\n",
        "**str** - это текстовый тип данных (в программировании текстовые данные зовутся строками - string). Все наши переменные в прошлых заданиях были типа str. Особенность такого типа - это запись в кавычках.\n",
        "\n",
        "**int** - это целочисленные значения. Они записываются с помощью цифр без кавычек.\n",
        "\n",
        "Примеры:"
      ],
      "metadata": {
        "id": "oOaDZg8n8YIs"
      }
    },
    {
      "cell_type": "code",
      "source": [
        "product = \"молоко\"\n",
        "\n",
        "price = 120\n",
        "\n",
        "print(product, price)"
      ],
      "metadata": {
        "id": "950LmGX-8dVs"
      },
      "execution_count": null,
      "outputs": []
    },
    {
      "cell_type": "markdown",
      "source": [
        "При печати мы не видим разницы, но различия появляются, когда мы хотим выполнить арифметическую операцию"
      ],
      "metadata": {
        "id": "DuUZB7UPYcZr"
      }
    },
    {
      "cell_type": "code",
      "source": [
        "print(100 + price) # тут все ок"
      ],
      "metadata": {
        "id": "FoULworZYbn8"
      },
      "execution_count": null,
      "outputs": []
    },
    {
      "cell_type": "code",
      "source": [
        "print(100 + product) # а здесь ошибка - нельзя сложить str и int"
      ],
      "metadata": {
        "id": "VYOof_v-YpRo"
      },
      "execution_count": null,
      "outputs": []
    },
    {
      "cell_type": "markdown",
      "source": [
        "****Задание****\n",
        "\n",
        "Создайте переменные name, age, salary, присвоив им любые значения, но при условии, что name и hobby - это текстовые переменные (str), а age - число (int). Затем выведите эти значения на экран."
      ],
      "metadata": {
        "id": "hNvy_EAn8fqb"
      }
    },
    {
      "cell_type": "code",
      "source": [
        "# Исходный код\n",
        "\n",
        "name = ...\n",
        "age = ...\n",
        "hobby ...\n",
        "print()\n",
        "print()\n",
        "print()"
      ],
      "metadata": {
        "id": "AVIDJ7t28p2i"
      },
      "execution_count": null,
      "outputs": []
    },
    {
      "cell_type": "markdown",
      "source": [
        "# Шаг 4 - Input"
      ],
      "metadata": {
        "id": "fpz57mml-JHc"
      }
    },
    {
      "cell_type": "markdown",
      "source": [
        "Мы уже изучили функцию print, которая выводит значения на экран (показывает данные пользователю). \n",
        "\n",
        "Теперь рассмотрим input - функцию, которая принимает данные от пользователя.\n",
        "\n",
        "Использование:\n",
        "1. при запуске вводим текст в окошко\n",
        "2. нажимаем **Enter**\n",
        "\n",
        "Пример использования:"
      ],
      "metadata": {
        "id": "2TLVlpdX-Pyu"
      }
    },
    {
      "cell_type": "code",
      "source": [
        "name = input() # в переменную name будет записано значение "
      ],
      "metadata": {
        "id": "5h_DQFcs-RTF"
      },
      "execution_count": null,
      "outputs": []
    },
    {
      "cell_type": "markdown",
      "source": [
        "**Задание**\n",
        "\n",
        "Запустить программу, которая считывает значение имени пользователя с клавиатуры, а потом выводит на экран две строки. \n",
        "\n",
        "Пример вывода:\n",
        "\n",
        "Привет\n",
        "\n",
        "Олег"
      ],
      "metadata": {
        "id": "YGrv2SS4-TcT"
      }
    },
    {
      "cell_type": "code",
      "source": [
        "# Исходный код\n",
        "\n",
        "name = input()\n",
        "\n",
        "print(\"Привет\")\n",
        "print(name)"
      ],
      "metadata": {
        "id": "xovtMDFL-VOV"
      },
      "execution_count": null,
      "outputs": []
    },
    {
      "cell_type": "markdown",
      "source": [
        "# Шаг 5 - Int"
      ],
      "metadata": {
        "id": "5Q1sfMYd-qaW"
      }
    },
    {
      "cell_type": "markdown",
      "source": [
        "Функция input по умолчанию все значения отдает в формате str.\n",
        "\n",
        "Как это работает."
      ],
      "metadata": {
        "id": "uh93Db2y-sFR"
      }
    },
    {
      "cell_type": "code",
      "source": [
        "price = input() \n",
        "# если ввести с клавиатуры, например, 3,\n",
        "# то в переменной price будет текстовое значение \"3\""
      ],
      "metadata": {
        "id": "RqxHKjig-u2i"
      },
      "execution_count": null,
      "outputs": []
    },
    {
      "cell_type": "markdown",
      "source": [
        "Для арифметических действий такое значение мы уже использовать не сможем, поэтому надо изменить формат принимаемых данных. Для этого используется:"
      ],
      "metadata": {
        "id": "1bXTEMfZ-vKA"
      }
    },
    {
      "cell_type": "code",
      "source": [
        "price = int(input()) # т.е. мы сразу переводим данные в формат числа."
      ],
      "metadata": {
        "id": "xqw2b05d-v2Q"
      },
      "execution_count": null,
      "outputs": []
    },
    {
      "cell_type": "markdown",
      "source": [
        "**Задание**\n",
        "\n",
        "Получите у пользователя два значения: наименование продукта **product** (текст str) и количество **amount** (число int). \n",
        "\n",
        "Ячейка должна выполнниться без ошибок"
      ],
      "metadata": {
        "id": "1wLt-s47-wRu"
      }
    },
    {
      "cell_type": "code",
      "source": [
        "product = ...\n",
        "amount = ...\n",
        "\n",
        "print(100 + amount)"
      ],
      "metadata": {
        "id": "MklZypqC-wlK"
      },
      "execution_count": null,
      "outputs": []
    },
    {
      "cell_type": "markdown",
      "source": [
        "# Шаг 6 - Условие"
      ],
      "metadata": {
        "id": "Qm8GyyIU-9VK"
      }
    },
    {
      "cell_type": "markdown",
      "source": [
        "Оператор if (его иногда называют оператором ветвления или условным оператором) — основной инструмент выбора в Python. Он выбирает, какое действие следует выполнить, в зависимости от результата проверки условия. \n",
        "\n",
        "Операторы для сравнения:"
      ],
      "metadata": {
        "id": "AetLuUb1_C5n"
      }
    },
    {
      "cell_type": "markdown",
      "source": [
        "<img src='https://drive.google.com/uc?export=view&id=1UpnDuGaBA90ykd1JCmaNkgEdt0Xulm2W' height=500 border='0' alt=''>"
      ],
      "metadata": {
        "id": "BWcjIe3p5WQN"
      }
    },
    {
      "cell_type": "code",
      "source": [
        "a == b # равно\n",
        "\n",
        "a != b # не равно \n",
        "\n",
        "a > b # больше\n",
        "\n",
        "a < b # меньше\n",
        "\n",
        "a >= b # больше или равно\n",
        "\n",
        "a <= b # меньше или равно"
      ],
      "metadata": {
        "id": "507odEtw_FFY"
      },
      "execution_count": null,
      "outputs": []
    },
    {
      "cell_type": "markdown",
      "source": [
        "Пример, как использовать условия с числами:"
      ],
      "metadata": {
        "id": "TmHr62cW_XLh"
      }
    },
    {
      "cell_type": "code",
      "source": [
        "a = 10\n",
        "b = 20\n",
        "if a < b:\n",
        "    print(\"a меньше b\") # этот текст на экране появится только если выполнится условие"
      ],
      "metadata": {
        "id": "pjfumBKs_YB_"
      },
      "execution_count": null,
      "outputs": []
    },
    {
      "cell_type": "markdown",
      "source": [
        "Еще пример, как условия могут применяться с текстовыми переменными:"
      ],
      "metadata": {
        "id": "uI6WlG3X_b4r"
      }
    },
    {
      "cell_type": "code",
      "source": [
        "name1 = \"Саша\"\n",
        "name2 = \"Маша\"\n",
        "if name1 == name2:\n",
        "    print(\"Имена одинаковые\") # этот текст на экране появится только если выполнится условие"
      ],
      "metadata": {
        "id": "CwSWWTIk_tqY"
      },
      "execution_count": null,
      "outputs": []
    },
    {
      "cell_type": "markdown",
      "source": [
        "**Задание**\n",
        "\n",
        "Напишите программу, которая:\n",
        "\n",
        "- получает от пользователя его возраст (input) и преобразует в число (int)\n",
        "- записывает значение в переменную age\n",
        "- проводит сравнение, есть ли пользователю 18 лет (age больше или равно 18)\n",
        "- если да: выводит на экран сообщение “Вам доступна регистрация на сайте”\n",
        "- иначе: “Вы можете находиться на сайте как гость\""
      ],
      "metadata": {
        "id": "M3z3qMcE_o9J"
      }
    },
    {
      "cell_type": "code",
      "source": [
        "#Исходный код\n",
        "age ="
      ],
      "metadata": {
        "id": "UdZB0m4E_ybk"
      },
      "execution_count": null,
      "outputs": []
    },
    {
      "cell_type": "markdown",
      "source": [
        "# Шаг 7 - Применяем навыки"
      ],
      "metadata": {
        "id": "7mmvdC2QBxjz"
      }
    },
    {
      "cell_type": "markdown",
      "source": [
        "Программа принимает три значения по очереди:\n",
        "\n",
        "first - это первое число\n",
        "\n",
        "symbol - это арифметический знак (это может быть + - * /)\n",
        "\n",
        "second - это второе число"
      ],
      "metadata": {
        "id": "cOMRyd16Cpfd"
      }
    },
    {
      "cell_type": "code",
      "source": [
        "first = int(input()) #принимает первое число\n",
        "symbol = input() #принимает арифметический знак\n",
        "second = int(input()) #принимает второе число\n",
        "\n",
        "if symbol == \"+\": #проверяется условие: равняется ли наш арифметический знак плюсом\n",
        "    result = first + second #если условие выполняется, первое и второе число складываем\n",
        "if symbol == \"-\": #проверяется условие: равняется ли наш арифметический знак минусом\n",
        "    result = first - second #если условие выполняется, из первого числа вычитаем второе\n",
        "if symbol == \"*\": #проверяется условие: равняется ли наш арифметический знак знаком умножения\n",
        "    result = first * second #если условие выполняется, первое и второе число умножаются\n",
        "if symbol == \"/\": #проверяется условие: равняется ли наш арифметический знак знаком деления\n",
        "    result = first / second #если условие выполняется, первое число делится на второе\n",
        "\n",
        "\n",
        "print(first, symbol, second, \"=\", result) #выводим на экран первое число, затем арифметический знак, затем второе число, затем знак равенства и результат вычислений"
      ],
      "metadata": {
        "id": "nJDtnyvkB5l7"
      },
      "execution_count": null,
      "outputs": []
    },
    {
      "cell_type": "markdown",
      "source": [
        "Запустите эту программу и предложите ей значения: 12 / 0\n",
        "\n",
        "**Задание (на самостоятельную проработку)**\n",
        "\n",
        "Допишите условие программы так, чтоб при делении на 0 выводилось сообщение \"Делить на 0 нельзя\""
      ],
      "metadata": {
        "id": "-1ubDDJkDO6I"
      }
    },
    {
      "cell_type": "code",
      "source": [],
      "metadata": {
        "id": "sRSJ6iHTLRST"
      },
      "execution_count": null,
      "outputs": []
    }
  ]
}